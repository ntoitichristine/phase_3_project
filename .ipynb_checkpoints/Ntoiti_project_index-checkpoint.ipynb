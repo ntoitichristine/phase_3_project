{
 "cells": [
  {
   "cell_type": "code",
   "execution_count": 1,
   "id": "47469d66-3db4-4e00-b40d-a15709936d6e",
   "metadata": {},
   "outputs": [],
   "source": [
    "import pandas as pd\n",
    "import numpy as np\n",
    "import matplotlib.pyplot as plt\n",
    "import seaborn as sns\n",
    "import statsmodels.api as sm\n",
    "from sklearn.model_selection import train_test_split, cross_val_score\n",
    "from sklearn.metrics import mean_squared_error\n",
    "from sklearn.preprocessing import OneHotEncoder, LabelEncoder\n",
    "from sklearn.pipeline import Pipeline\n",
    "from sklearn.compose import ColumnTransformer\n",
    "from zipfile import ZipFile\n",
    "from sklearn.ensemble import RandomForestRegressor"
   ]
  },
  {
   "cell_type": "code",
   "execution_count": null,
   "id": "1e5197f2-f609-4117-964b-cf5947a3353d",
   "metadata": {},
   "outputs": [],
   "source": [
    "with ZipFile('house-prices-advanced-regression-techniques.zip', 'r') as f:\n",
    "    f.extractall()"
   ]
  },
  {
   "cell_type": "code",
   "execution_count": null,
   "id": "5ea59daa-475a-4557-b344-be7c8b5a5885",
   "metadata": {},
   "outputs": [],
   "source": [
    "train_df = pd.read_csv('train.csv', index_col=0)\n",
    "test_df = pd.read_csv('test.csv', index_col=0)\n",
    "\n",
    "#data exploration\n",
    "train_df.head()\n",
    "train_df.info()\n",
    "train_df.describe()"
   ]
  },
  {
   "cell_type": "code",
   "execution_count": null,
   "id": "cf3835fc-0122-4da3-851e-3c796797a60a",
   "metadata": {},
   "outputs": [],
   "source": [
    "train_df.fillna(train_df.mode(), inplace=True)\n",
    "test_df.fillna(test_df.mode(), inplace=True)"
   ]
  },
  {
   "cell_type": "code",
   "execution_count": null,
   "id": "67756467-5b8b-4e3f-99fa-580f14724abf",
   "metadata": {},
   "outputs": [],
   "source": [
    "sample_submission_df = pd.read_csv('sample_submission.csv', index_col=False)\n",
    "sample_submission_df.head\n",
    "sample_submission_df.info()"
   ]
  },
  {
   "cell_type": "code",
   "execution_count": null,
   "id": "d70baad6-f0b4-4f6c-a827-704c7e3c0062",
   "metadata": {},
   "outputs": [],
   "source": [
    "# number of rows with missing data\n",
    "train_df.isnull().sum()[train_df.isnull().sum() > 0]"
   ]
  },
  {
   "cell_type": "code",
   "execution_count": null,
   "id": "e1123dc4-3ac6-4f3d-872d-205a092154d5",
   "metadata": {},
   "outputs": [],
   "source": [
    "# identify the percentage of missing values\n",
    "train_missing_perectage = train_df.isnull().sum()[train_df.isnull().sum() > 0]/len(train_df)*100\n",
    "train_missing_perectage"
   ]
  },
  {
   "cell_type": "code",
   "execution_count": null,
   "id": "a8ce7e8b-74a4-4c29-aeda-69be19d9a664",
   "metadata": {},
   "outputs": [],
   "source": [
    "# fill missing data values with mode\n",
    "train_df = train_df.apply(lambda x: x.fillna(x.mode()[0]), axis=0)\n",
    "train_df.isnull().sum()"
   ]
  },
  {
   "cell_type": "code",
   "execution_count": null,
   "id": "ca5f60d3-5b4a-49f6-a1ff-fd4504993ccd",
   "metadata": {},
   "outputs": [],
   "source": [
    "test_missing_perectage = test_df.isnull().sum()[test_df.isnull().sum() > 0]/len(train_df)*100\n",
    "test_missing_perectage"
   ]
  },
  {
   "cell_type": "code",
   "execution_count": null,
   "id": "a1fc646e-2343-4039-b09d-9e27194190a3",
   "metadata": {},
   "outputs": [],
   "source": [
    "test_df = test_df.apply(lambda x: x.fillna(x.mode()[0]), axis=0)\n",
    "test_df.isnull().sum()"
   ]
  },
  {
   "cell_type": "code",
   "execution_count": null,
   "id": "d6ff0141-780f-4124-951d-0a8210305eb1",
   "metadata": {},
   "outputs": [],
   "source": [
    "# Check for duplicates in the train and test data\n",
    "print(f\"Number of duplicate rows in the train dataframe: {train_df.duplicated().sum()}\")\n",
    "print(f\"Number of duplicate rows in the test dataframe: {test_df.duplicated().sum()}\")"
   ]
  },
  {
   "cell_type": "code",
   "execution_count": null,
   "id": "7e03476b-66ac-4278-ac17-d85183c9f230",
   "metadata": {},
   "outputs": [],
   "source": [
    "train_cat_columns = train_df.select_dtypes(include=['object', 'category']).columns.tolist()\n",
    "train_num_columns = train_df.select_dtypes(exclude=['object']).columns.tolist()"
   ]
  },
  {
   "cell_type": "code",
   "execution_count": null,
   "id": "bb3504f7-11f7-4a84-8634-b2370f7213bc",
   "metadata": {},
   "outputs": [],
   "source": [
    "# Plot the distribution of SalePrice\n",
    "plt.figure(figsize=(4, 6))\n",
    "sns.histplot(train_df['SalePrice'], kde=True)\n",
    "plt.title(\"SalePrice Distribution\")\n",
    "plt.xlabel('SalePrice')\n",
    "plt.ylabel('Frequency')\n",
    "plt.show()"
   ]
  },
  {
   "cell_type": "code",
   "execution_count": null,
   "id": "39d11710-cc85-4963-b110-48d5f1b3504d",
   "metadata": {},
   "outputs": [],
   "source": [
    "# numerical columns for the training dataframe\n",
    "train_df_numerical = train_df[train_num_columns]\n",
    "\n",
    "# Correlation heatmap\n",
    "plt.figure(figsize=(12, 8))\n",
    "sns.heatmap(train_df_numerical.corr(), cmap='coolwarm')\n",
    "plt.title(\"Correlation Heatmap for Training Data\")\n",
    "plt.show()"
   ]
  },
  {
   "cell_type": "code",
   "execution_count": null,
   "id": "ec263166-0f07-4ca1-af39-60901db0d958",
   "metadata": {},
   "outputs": [],
   "source": [
    "# Set the figure size\n",
    "plt.figure(figsize=(25, 25))\n",
    "\n",
    "# Number of columns for the grid of subplots\n",
    "num_columns = len(train_df_numerical.columns)\n",
    "\n",
    "# Create box plots for each numerical column\n",
    "for i, column in enumerate(train_df_numerical.columns):\n",
    "    plt.subplot(num_columns // 3 + 1, 3, i + 1)  \n",
    "    sns.boxplot(x=train_df_numerical[column])\n",
    "    plt.title(f\"Box Plot for {column}\", fontsize=12)\n",
    "\n",
    "# Manually adjust the layout to add more spacing between subplots\n",
    "plt.subplots_adjust(hspace=2.5, wspace=0.5)  # Adjust vertical (hspace) and horizontal (wspace) spacing\n",
    "\n",
    "# Display the plots\n",
    "plt.show()"
   ]
  },
  {
   "cell_type": "code",
   "execution_count": null,
   "id": "27b10d34-45b2-4a09-98b2-38f62cd3e107",
   "metadata": {},
   "outputs": [],
   "source": []
  },
  {
   "cell_type": "code",
   "execution_count": null,
   "id": "71c86a2f-d8d8-475e-a617-ac400e2130c0",
   "metadata": {},
   "outputs": [],
   "source": []
  },
  {
   "cell_type": "code",
   "execution_count": null,
   "id": "d075976c-63a1-45d1-b898-262583473eb3",
   "metadata": {},
   "outputs": [],
   "source": []
  },
  {
   "cell_type": "code",
   "execution_count": null,
   "id": "2cb5643a-c346-4bbf-b29e-ab61f1c4a11d",
   "metadata": {},
   "outputs": [],
   "source": []
  }
 ],
 "metadata": {
  "kernelspec": {
   "display_name": "Python 3 (ipykernel)",
   "language": "python",
   "name": "python3"
  },
  "language_info": {
   "codemirror_mode": {
    "name": "ipython",
    "version": 3
   },
   "file_extension": ".py",
   "mimetype": "text/x-python",
   "name": "python",
   "nbconvert_exporter": "python",
   "pygments_lexer": "ipython3",
   "version": "3.12.4"
  }
 },
 "nbformat": 4,
 "nbformat_minor": 5
}
